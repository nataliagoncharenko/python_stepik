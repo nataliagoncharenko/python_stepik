{
 "cells": [
  {
   "cell_type": "code",
   "execution_count": 1,
   "id": "8ecb9c5c-8eac-41e1-b1ef-a393237973a2",
   "metadata": {},
   "outputs": [
    {
     "name": "stdout",
     "output_type": "stream",
     "text": [
      "12345554321\n"
     ]
    }
   ],
   "source": [
    "#ввести в окошко в курсе результат умножения\n",
    "print(11111 * 1111111)"
   ]
  },
  {
   "cell_type": "code",
   "execution_count": 2,
   "id": "40d0ca4d-01cf-4582-b169-50988d98b901",
   "metadata": {},
   "outputs": [
    {
     "ename": "ZeroDivisionError",
     "evalue": "division by zero",
     "output_type": "error",
     "traceback": [
      "\u001b[31m---------------------------------------------------------------------------\u001b[39m",
      "\u001b[31mZeroDivisionError\u001b[39m                         Traceback (most recent call last)",
      "\u001b[36mCell\u001b[39m\u001b[36m \u001b[39m\u001b[32mIn[2]\u001b[39m\u001b[32m, line 2\u001b[39m\n\u001b[32m      1\u001b[39m \u001b[38;5;66;03m#вписать ошибку при вычислении выражения\u001b[39;00m\n\u001b[32m----> \u001b[39m\u001b[32m2\u001b[39m \u001b[32;43m42\u001b[39;49m\u001b[43m \u001b[49m\u001b[43m/\u001b[49m\u001b[43m \u001b[49m\u001b[43m(\u001b[49m\u001b[32;43m4\u001b[39;49m\u001b[43m \u001b[49m\u001b[43m+\u001b[49m\u001b[43m \u001b[49m\u001b[32;43m2\u001b[39;49m\u001b[43m \u001b[49m\u001b[43m*\u001b[49m\u001b[43m \u001b[49m\u001b[43m(\u001b[49m\u001b[43m-\u001b[49m\u001b[32;43m2\u001b[39;49m\u001b[43m)\u001b[49m\u001b[43m)\u001b[49m\n",
      "\u001b[31mZeroDivisionError\u001b[39m: division by zero"
     ]
    }
   ],
   "source": [
    "#вписать ошибку при вычислении выражения\n",
    "42 / (4 + 2 * (-2))"
   ]
  },
  {
   "cell_type": "code",
   "execution_count": 3,
   "id": "a62c3c6d-fca8-4075-8c04-a49e1c41f330",
   "metadata": {},
   "outputs": [
    {
     "name": "stdout",
     "output_type": "stream",
     "text": [
      "18064773765607550801425251468864907833685590016\n"
     ]
    }
   ],
   "source": [
    "#написать результат вычисления\n",
    "print (2014 ** 14)"
   ]
  },
  {
   "cell_type": "code",
   "execution_count": 5,
   "id": "8f174032-7bf3-4b6e-a2e3-b62f23cc0158",
   "metadata": {},
   "outputs": [
    {
     "name": "stdout",
     "output_type": "stream",
     "text": [
      "1234.5\n"
     ]
    }
   ],
   "source": [
    "#Запишите число 1.2345e3 в виде десятичной дроби.\n",
    "print( 1.2345e3)"
   ]
  },
  {
   "cell_type": "code",
   "execution_count": 6,
   "id": "19c9a4a9-052f-47dd-b89e-5116d13b3dca",
   "metadata": {},
   "outputs": [
    {
     "name": "stdout",
     "output_type": "stream",
     "text": [
      "0.0012345\n"
     ]
    }
   ],
   "source": [
    "#Запишите число 1.2345e-3 в виде десятичной дроби\n",
    "print( 1.2345e-3)"
   ]
  },
  {
   "cell_type": "code",
   "execution_count": 7,
   "id": "46aeeaf8-5613-4e63-9500-c6018f1fc99b",
   "metadata": {},
   "outputs": [
    {
     "name": "stdout",
     "output_type": "stream",
     "text": [
      "1.806477376560755e+46\n"
     ]
    }
   ],
   "source": [
    "#Составьте выражение для вычисления в интерпретаторе Python 3 и вставьте в поле ответа результат вычисления: 2014.0 в степени 14\n",
    "print(2014.0 ** 14)\n",
    " "
   ]
  },
  {
   "cell_type": "code",
   "execution_count": 8,
   "id": "15215d2c-a382-44b5-8d40-0552830c835c",
   "metadata": {},
   "outputs": [
    {
     "name": "stdout",
     "output_type": "stream",
     "text": [
      "2.3333333333333335\n"
     ]
    }
   ],
   "source": [
    "#Составьте выражение для вычисления в интерпретаторе Python 3 и вставьте в поле ответа результат вычисления:\n",
    "print(7/3)"
   ]
  },
  {
   "cell_type": "code",
   "execution_count": 9,
   "id": "f84e1e6d-0d55-4fcb-84c7-14a9abf23846",
   "metadata": {},
   "outputs": [
    {
     "name": "stdout",
     "output_type": "stream",
     "text": [
      "2\n"
     ]
    }
   ],
   "source": [
    "#Составьте выражение для вычисления в интерпретаторе Python 3 и вставьте в поле ответа результат вычисления:\n",
    "print(7//3)"
   ]
  },
  {
   "cell_type": "code",
   "execution_count": 10,
   "id": "b99d00d1-56f4-4997-91d5-27e3c10efa43",
   "metadata": {},
   "outputs": [
    {
     "name": "stdout",
     "output_type": "stream",
     "text": [
      "2\n"
     ]
    }
   ],
   "source": [
    "#Приведите к целому типу число 2.99\n",
    "print(int(2.99))"
   ]
  },
  {
   "cell_type": "code",
   "execution_count": 11,
   "id": "9e58f885-b05f-4ccd-bb51-41ee742af1ce",
   "metadata": {},
   "outputs": [
    {
     "name": "stdout",
     "output_type": "stream",
     "text": [
      "-1\n"
     ]
    }
   ],
   "source": [
    "#Приведите к целому типу число -1.6\n",
    "print(int(-1.6))"
   ]
  },
  {
   "cell_type": "code",
   "execution_count": 13,
   "id": "13b3d7a9-f13d-4914-8764-7b80e8766095",
   "metadata": {},
   "outputs": [
    {
     "name": "stdout",
     "output_type": "stream",
     "text": [
      "89\n"
     ]
    }
   ],
   "source": [
    "#Вычислите в python значение выражения\n",
    "print(9**19 - int(float(9**19)))"
   ]
  }
 ],
 "metadata": {
  "kernelspec": {
   "display_name": "Python 3 (ipykernel)",
   "language": "python",
   "name": "python3"
  },
  "language_info": {
   "codemirror_mode": {
    "name": "ipython",
    "version": 3
   },
   "file_extension": ".py",
   "mimetype": "text/x-python",
   "name": "python",
   "nbconvert_exporter": "python",
   "pygments_lexer": "ipython3",
   "version": "3.12.3"
  }
 },
 "nbformat": 4,
 "nbformat_minor": 5
}
