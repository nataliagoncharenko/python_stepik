{
 "cells": [
  {
   "cell_type": "code",
   "execution_count": 1,
   "id": "8ecb9c5c-8eac-41e1-b1ef-a393237973a2",
   "metadata": {},
   "outputs": [
    {
     "name": "stdout",
     "output_type": "stream",
     "text": [
      "12345554321\n"
     ]
    }
   ],
   "source": [
    "#ввести в окошко в курсе результат умножения\n",
    "print(11111 * 1111111)"
   ]
  },
  {
   "cell_type": "code",
   "execution_count": 2,
   "id": "40d0ca4d-01cf-4582-b169-50988d98b901",
   "metadata": {},
   "outputs": [
    {
     "ename": "ZeroDivisionError",
     "evalue": "division by zero",
     "output_type": "error",
     "traceback": [
      "\u001b[31m---------------------------------------------------------------------------\u001b[39m",
      "\u001b[31mZeroDivisionError\u001b[39m                         Traceback (most recent call last)",
      "\u001b[36mCell\u001b[39m\u001b[36m \u001b[39m\u001b[32mIn[2]\u001b[39m\u001b[32m, line 2\u001b[39m\n\u001b[32m      1\u001b[39m \u001b[38;5;66;03m#вписать ошибку при вычислении выражения\u001b[39;00m\n\u001b[32m----> \u001b[39m\u001b[32m2\u001b[39m \u001b[32;43m42\u001b[39;49m\u001b[43m \u001b[49m\u001b[43m/\u001b[49m\u001b[43m \u001b[49m\u001b[43m(\u001b[49m\u001b[32;43m4\u001b[39;49m\u001b[43m \u001b[49m\u001b[43m+\u001b[49m\u001b[43m \u001b[49m\u001b[32;43m2\u001b[39;49m\u001b[43m \u001b[49m\u001b[43m*\u001b[49m\u001b[43m \u001b[49m\u001b[43m(\u001b[49m\u001b[43m-\u001b[49m\u001b[32;43m2\u001b[39;49m\u001b[43m)\u001b[49m\u001b[43m)\u001b[49m\n",
      "\u001b[31mZeroDivisionError\u001b[39m: division by zero"
     ]
    }
   ],
   "source": [
    "#вписать ошибку при вычислении выражения\n",
    "42 / (4 + 2 * (-2))"
   ]
  },
  {
   "cell_type": "code",
   "execution_count": 3,
   "id": "a62c3c6d-fca8-4075-8c04-a49e1c41f330",
   "metadata": {},
   "outputs": [
    {
     "name": "stdout",
     "output_type": "stream",
     "text": [
      "18064773765607550801425251468864907833685590016\n"
     ]
    }
   ],
   "source": [
    "#написать результат вычисления\n",
    "print (2014 ** 14)"
   ]
  },
  {
   "cell_type": "code",
   "execution_count": 4,
   "id": "8f174032-7bf3-4b6e-a2e3-b62f23cc0158",
   "metadata": {},
   "outputs": [
    {
     "name": "stdout",
     "output_type": "stream",
     "text": [
      "1234.5\n"
     ]
    }
   ],
   "source": [
    "#Запишите число 1.2345e3 в виде десятичной дроби.\n",
    "print( 1.2345e3)"
   ]
  },
  {
   "cell_type": "code",
   "execution_count": 5,
   "id": "19c9a4a9-052f-47dd-b89e-5116d13b3dca",
   "metadata": {},
   "outputs": [
    {
     "name": "stdout",
     "output_type": "stream",
     "text": [
      "0.0012345\n"
     ]
    }
   ],
   "source": [
    "#Запишите число 1.2345e-3 в виде десятичной дроби\n",
    "print( 1.2345e-3)"
   ]
  },
  {
   "cell_type": "code",
   "execution_count": 6,
   "id": "46aeeaf8-5613-4e63-9500-c6018f1fc99b",
   "metadata": {},
   "outputs": [
    {
     "name": "stdout",
     "output_type": "stream",
     "text": [
      "1.806477376560755e+46\n"
     ]
    }
   ],
   "source": [
    "#Составьте выражение для вычисления в интерпретаторе Python 3 и вставьте в поле ответа результат вычисления: 2014.0 в степени 14\n",
    "print(2014.0 ** 14)\n",
    " "
   ]
  },
  {
   "cell_type": "code",
   "execution_count": 7,
   "id": "15215d2c-a382-44b5-8d40-0552830c835c",
   "metadata": {},
   "outputs": [
    {
     "name": "stdout",
     "output_type": "stream",
     "text": [
      "2.3333333333333335\n"
     ]
    }
   ],
   "source": [
    "#Составьте выражение для вычисления в интерпретаторе Python 3 и вставьте в поле ответа результат вычисления:\n",
    "print(7/3)"
   ]
  },
  {
   "cell_type": "code",
   "execution_count": 8,
   "id": "f84e1e6d-0d55-4fcb-84c7-14a9abf23846",
   "metadata": {},
   "outputs": [
    {
     "name": "stdout",
     "output_type": "stream",
     "text": [
      "2\n"
     ]
    }
   ],
   "source": [
    "#Составьте выражение для вычисления в интерпретаторе Python 3 и вставьте в поле ответа результат вычисления:\n",
    "print(7//3)"
   ]
  },
  {
   "cell_type": "code",
   "execution_count": 9,
   "id": "b99d00d1-56f4-4997-91d5-27e3c10efa43",
   "metadata": {},
   "outputs": [
    {
     "name": "stdout",
     "output_type": "stream",
     "text": [
      "2\n"
     ]
    }
   ],
   "source": [
    "#Приведите к целому типу число 2.99\n",
    "print(int(2.99))"
   ]
  },
  {
   "cell_type": "code",
   "execution_count": 10,
   "id": "9e58f885-b05f-4ccd-bb51-41ee742af1ce",
   "metadata": {},
   "outputs": [
    {
     "name": "stdout",
     "output_type": "stream",
     "text": [
      "-1\n"
     ]
    }
   ],
   "source": [
    "#Приведите к целому типу число -1.6\n",
    "print(int(-1.6))"
   ]
  },
  {
   "cell_type": "code",
   "execution_count": 11,
   "id": "13b3d7a9-f13d-4914-8764-7b80e8766095",
   "metadata": {},
   "outputs": [
    {
     "name": "stdout",
     "output_type": "stream",
     "text": [
      "89\n"
     ]
    }
   ],
   "source": [
    "#Вычислите в python значение выражения\n",
    "print(9**19 - int(float(9**19)))"
   ]
  },
  {
   "cell_type": "markdown",
   "id": "3e2e9cb1-907c-4508-ad54-a517b52c2c77",
   "metadata": {},
   "source": [
    "Выполните код в интерпретаторе Python 3 и вставьте в поле ответа результат вычисления. Постарайтесь разобраться, почему интерпретатор выдал именно такой ответ. Помните, что любые арифметические операции выше по приоритету операций сравнения и логических операторов."
   ]
  },
  {
   "cell_type": "code",
   "execution_count": 12,
   "id": "9ae23506-bca1-4a39-94e8-bfbc5138d58a",
   "metadata": {},
   "outputs": [
    {
     "data": {
      "text/plain": [
       "True"
      ]
     },
     "execution_count": 12,
     "metadata": {},
     "output_type": "execute_result"
    }
   ],
   "source": [
    "x = 5\n",
    "y = 10\n",
    "y > x * x or y >= 2 * x and x < y"
   ]
  },
  {
   "cell_type": "code",
   "execution_count": 14,
   "id": "c63315d8-4b4e-43db-9313-db45c2a6dd9d",
   "metadata": {},
   "outputs": [
    {
     "data": {
      "text/plain": [
       "False"
      ]
     },
     "execution_count": 14,
     "metadata": {},
     "output_type": "execute_result"
    }
   ],
   "source": [
    "a = True\n",
    "b = False\n",
    "((a and b) or ((not a) and (not b)))"
   ]
  },
  {
   "cell_type": "markdown",
   "id": "c32d6c0a-9076-47af-ae5b-e9cc0cb9e10f",
   "metadata": {},
   "source": [
    "Из передачи “Здоровье” Аня узнала, что рекомендуется спать хотя бы  A часов в сутки, но пересыпать тоже вредно и не стоит спать более B часов. Сейчас Аня спит H часов в сутки. Если режим сна Ани удовлетворяет рекомендациям передачи “Здоровье”, выведите “Это нормально”. Если Аня спит менее \n",
    "A часов, выведите “Недосып”, если же более B часов, то выведите “Пересып”.\n",
    "Получаемое число A всегда меньше либо равно B.\n",
    "\n",
    "На вход программе в три строки подаются переменные в следующем порядке: A, B, H.\n",
    "\n"
   ]
  },
  {
   "cell_type": "code",
   "execution_count": 1,
   "id": "657498ac-fc59-4b23-b03c-4f79b35d903a",
   "metadata": {},
   "outputs": [
    {
     "name": "stdin",
     "output_type": "stream",
     "text": [
      " 6\n",
      " 10\n",
      " 8\n"
     ]
    },
    {
     "name": "stdout",
     "output_type": "stream",
     "text": [
      "Это нормально\n"
     ]
    }
   ],
   "source": [
    "A = int(input())\n",
    "B = int(input())\n",
    "H = int(input())\n",
    "\n",
    "if H < A: \n",
    "    print('Недосып')\n",
    "if (H >= A) and (H <= B):\n",
    "    print('Это нормально')\n",
    "if H > B:\n",
    "    print('Пересып')"
   ]
  },
  {
   "attachments": {},
   "cell_type": "markdown",
   "id": "9edae85c-09e8-4526-bb44-a3fbf42fe6c7",
   "metadata": {},
   "source": [
    "В то далёкое время, когда Паша ходил в школу, ему очень не нравилась формула Герона для вычисления площади треугольника, так как казалась слишком сложной. В один прекрасный момент Павел решил избавить всех школьников от страданий и написать и распространить по школам программу, вычисляющую площадь треугольника по трём сторонам.\n",
    "\n",
    "Одна проблема: так как эта формула не нравилась Павлу, он её не запомнил. Помогите ему завершить доброе дело и напишите программу, вычисляющую площадь треугольника по переданным длинам трёх его сторон по формуле Герона:\n",
    "  – полупериметр треугольника. На вход программе подаются целые числа, выводом программы должно являться вещественное число, соответствующее площади треугольника."
   ]
  },
  {
   "cell_type": "code",
   "execution_count": 1,
   "id": "2c9b796a-257d-421a-8533-4921cfd09b9c",
   "metadata": {},
   "outputs": [
    {
     "name": "stdin",
     "output_type": "stream",
     "text": [
      " 3\n",
      " 4\n",
      " 5\n"
     ]
    },
    {
     "name": "stdout",
     "output_type": "stream",
     "text": [
      "6.0\n"
     ]
    }
   ],
   "source": [
    "a = float(input())\n",
    "b = float(input())\n",
    "c = float(input())\n",
    "p = (a + b + c) / 2\n",
    "s = (p * (p - a) * (p - b) * (p - c)) ** 0.5\n",
    "print(s)"
   ]
  },
  {
   "cell_type": "markdown",
   "id": "ca01aa4c-97d7-4b70-a2ac-109fd8705c5d",
   "metadata": {},
   "source": [
    "Напишите программу, принимающую на вход целое число, которая выводит True, если переданное значение попадает в интервал \n",
    "(−15, 12]∪ (14,17) ∪ [19,+∞ ) и False в противном случае (регистр символов имеет значение).\n",
    "\n",
    "Обратите внимание на разные скобки, используемые для обозначения интервалов. В задании используются полуоткрытые и открытые интервалы. Подробнее про это вы можете прочитать"
   ]
  },
  {
   "cell_type": "code",
   "execution_count": 2,
   "id": "9630d0be-e0df-41a7-a52e-6e99d15df726",
   "metadata": {},
   "outputs": [
    {
     "name": "stdin",
     "output_type": "stream",
     "text": [
      " 6\n"
     ]
    },
    {
     "name": "stdout",
     "output_type": "stream",
     "text": [
      "True\n"
     ]
    }
   ],
   "source": [
    "x = int(input())\n",
    "if (x > - 15 and x <= 12) or (x > 14 and x < 17) or (x >= 19):\n",
    "    print(True)\n",
    "else:\n",
    "    print(False)"
   ]
  }
 ],
 "metadata": {
  "kernelspec": {
   "display_name": "Python 3 (ipykernel)",
   "language": "python",
   "name": "python3"
  },
  "language_info": {
   "codemirror_mode": {
    "name": "ipython",
    "version": 3
   },
   "file_extension": ".py",
   "mimetype": "text/x-python",
   "name": "python",
   "nbconvert_exporter": "python",
   "pygments_lexer": "ipython3",
   "version": "3.12.3"
  }
 },
 "nbformat": 4,
 "nbformat_minor": 5
}
